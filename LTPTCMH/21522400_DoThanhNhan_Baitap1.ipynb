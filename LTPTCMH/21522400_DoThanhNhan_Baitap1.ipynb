{
  "cells": [
    {
      "cell_type": "markdown",
      "metadata": {
        "id": "Mh2O4eOJbbmY"
      },
      "source": [
        "Tên: Đỗ Thành Nhân\n",
        "MSSV: 21522400"
      ]
    },
    {
      "cell_type": "code",
      "execution_count": 1,
      "metadata": {
        "colab": {
          "base_uri": "https://localhost:8080/"
        },
        "id": "vzAIMrBjHysx",
        "outputId": "4f8b6219-0068-4387-cf80-8284eee83d47"
      },
      "outputs": [
        {
          "name": "stdout",
          "output_type": "stream",
          "text": [
            "Requirement already satisfied: geopandas in c:\\users\\msi gf65\\appdata\\local\\programs\\python\\python311\\lib\\site-packages (0.12.2)\n",
            "Requirement already satisfied: pandas>=1.0.0 in c:\\users\\msi gf65\\appdata\\local\\programs\\python\\python311\\lib\\site-packages (from geopandas) (1.5.3)\n",
            "Requirement already satisfied: shapely>=1.7 in c:\\users\\msi gf65\\appdata\\local\\programs\\python\\python311\\lib\\site-packages (from geopandas) (2.0.1)\n",
            "Requirement already satisfied: fiona>=1.8 in c:\\users\\msi gf65\\appdata\\local\\programs\\python\\python311\\lib\\site-packages (from geopandas) (1.9.1)\n",
            "Requirement already satisfied: pyproj>=2.6.1.post1 in c:\\users\\msi gf65\\appdata\\local\\programs\\python\\python311\\lib\\site-packages (from geopandas) (3.4.1)\n",
            "Requirement already satisfied: packaging in c:\\users\\msi gf65\\appdata\\local\\programs\\python\\python311\\lib\\site-packages (from geopandas) (23.0)\n",
            "Requirement already satisfied: attrs>=19.2.0 in c:\\users\\msi gf65\\appdata\\local\\programs\\python\\python311\\lib\\site-packages (from fiona>=1.8->geopandas) (22.2.0)\n",
            "Requirement already satisfied: certifi in c:\\users\\msi gf65\\appdata\\local\\programs\\python\\python311\\lib\\site-packages (from fiona>=1.8->geopandas) (2022.12.7)\n",
            "Requirement already satisfied: click~=8.0 in c:\\users\\msi gf65\\appdata\\local\\programs\\python\\python311\\lib\\site-packages (from fiona>=1.8->geopandas) (8.1.3)\n",
            "Requirement already satisfied: click-plugins>=1.0 in c:\\users\\msi gf65\\appdata\\local\\programs\\python\\python311\\lib\\site-packages (from fiona>=1.8->geopandas) (1.1.1)\n",
            "Requirement already satisfied: cligj>=0.5 in c:\\users\\msi gf65\\appdata\\local\\programs\\python\\python311\\lib\\site-packages (from fiona>=1.8->geopandas) (0.7.2)\n",
            "Requirement already satisfied: munch>=2.3.2 in c:\\users\\msi gf65\\appdata\\local\\programs\\python\\python311\\lib\\site-packages (from fiona>=1.8->geopandas) (2.5.0)\n",
            "Requirement already satisfied: setuptools in c:\\users\\msi gf65\\appdata\\local\\programs\\python\\python311\\lib\\site-packages (from fiona>=1.8->geopandas) (65.5.0)\n",
            "Requirement already satisfied: python-dateutil>=2.8.1 in c:\\users\\msi gf65\\appdata\\local\\programs\\python\\python311\\lib\\site-packages (from pandas>=1.0.0->geopandas) (2.8.2)\n",
            "Requirement already satisfied: pytz>=2020.1 in c:\\users\\msi gf65\\appdata\\local\\programs\\python\\python311\\lib\\site-packages (from pandas>=1.0.0->geopandas) (2022.7.1)\n",
            "Requirement already satisfied: numpy>=1.21.0 in c:\\users\\msi gf65\\appdata\\local\\programs\\python\\python311\\lib\\site-packages (from pandas>=1.0.0->geopandas) (1.24.2)\n",
            "Requirement already satisfied: colorama in c:\\users\\msi gf65\\appdata\\local\\programs\\python\\python311\\lib\\site-packages (from click~=8.0->fiona>=1.8->geopandas) (0.4.6)\n",
            "Requirement already satisfied: six in c:\\users\\msi gf65\\appdata\\local\\programs\\python\\python311\\lib\\site-packages (from munch>=2.3.2->fiona>=1.8->geopandas) (1.16.0)\n"
          ]
        }
      ],
      "source": [
        "!pip install geopandas"
      ]
    },
    {
      "cell_type": "code",
      "execution_count": 2,
      "metadata": {
        "colab": {
          "base_uri": "https://localhost:8080/"
        },
        "id": "Kqrwd19VOPgn",
        "outputId": "2de3bd89-f4e2-43d0-e144-8b79b474cc08"
      },
      "outputs": [
        {
          "name": "stderr",
          "output_type": "stream",
          "text": [
            "'git' is not recognized as an internal or external command,\n",
            "operable program or batch file.\n"
          ]
        }
      ],
      "source": [
        "!git clone https://github.com/CityScope/CSL_HCMC"
      ]
    },
    {
      "cell_type": "code",
      "execution_count": 3,
      "metadata": {
        "id": "pkhYsuIkJCyD"
      },
      "outputs": [],
      "source": [
        "import geopandas as gpd\n",
        "import pandas as pd"
      ]
    },
    {
      "cell_type": "code",
      "execution_count": 4,
      "metadata": {
        "id": "H80x3C0GKr6O"
      },
      "outputs": [
        {
          "name": "stdout",
          "output_type": "stream",
          "text": [
            "Unexpected exception formatting exception. Falling back to standard exception\n"
          ]
        },
        {
          "name": "stderr",
          "output_type": "stream",
          "text": [
            "Traceback (most recent call last):\n",
            "  File \"fiona\\ogrext.pyx\", line 136, in fiona.ogrext.gdal_open_vector\n",
            "  File \"fiona\\_err.pyx\", line 291, in fiona._err.exc_wrap_pointer\n",
            "fiona._err.CPLE_OpenFailedError: '/content/CSL_HCMC/Data/GIS/Population/population_HCMC/population_shapefile/Population_Ward_Level.shp' does not exist in the file system, and is not recognized as a supported dataset name.\n",
            "\n",
            "During handling of the above exception, another exception occurred:\n",
            "\n",
            "Traceback (most recent call last):\n",
            "  File \"C:\\Users\\MSI GF65\\AppData\\Roaming\\Python\\Python311\\site-packages\\IPython\\core\\interactiveshell.py\", line 3460, in run_code\n",
            "    exec(code_obj, self.user_global_ns, self.user_ns)\n",
            "  File \"C:\\Users\\MSI GF65\\AppData\\Local\\Temp\\ipykernel_22592\\3987783680.py\", line 2, in <module>\n",
            "    df = gpd.read_file(fp)\n",
            "         ^^^^^^^^^^^^^^^^^\n",
            "  File \"c:\\Users\\MSI GF65\\AppData\\Local\\Programs\\Python\\Python311\\Lib\\site-packages\\geopandas\\io\\file.py\", line 259, in _read_file\n",
            "    return _read_file_fiona(\n",
            "           ^^^^^^^^^^^^^^^^^\n",
            "  File \"c:\\Users\\MSI GF65\\AppData\\Local\\Programs\\Python\\Python311\\Lib\\site-packages\\geopandas\\io\\file.py\", line 303, in _read_file_fiona\n",
            "    with reader(path_or_bytes, **kwargs) as features:\n",
            "         ^^^^^^^^^^^^^^^^^^^^^^^^^^^^^^^\n",
            "  File \"c:\\Users\\MSI GF65\\AppData\\Local\\Programs\\Python\\Python311\\Lib\\site-packages\\fiona\\env.py\", line 457, in wrapper\n",
            "    return f(*args, **kwds)\n",
            "           ^^^^^^^^^^^^^^^^\n",
            "  File \"c:\\Users\\MSI GF65\\AppData\\Local\\Programs\\Python\\Python311\\Lib\\site-packages\\fiona\\__init__.py\", line 352, in open\n",
            "    colxn = Collection(\n",
            "            ^^^^^^^^^^^\n",
            "  File \"c:\\Users\\MSI GF65\\AppData\\Local\\Programs\\Python\\Python311\\Lib\\site-packages\\fiona\\collection.py\", line 234, in __init__\n",
            "    self.session.start(self, **kwargs)\n",
            "  File \"fiona\\ogrext.pyx\", line 587, in fiona.ogrext.Session.start\n",
            "  File \"fiona\\ogrext.pyx\", line 143, in fiona.ogrext.gdal_open_vector\n",
            "fiona.errors.DriverError: '/content/CSL_HCMC/Data/GIS/Population/population_HCMC/population_shapefile/Population_Ward_Level.shp' does not exist in the file system, and is not recognized as a supported dataset name.\n",
            "\n",
            "During handling of the above exception, another exception occurred:\n",
            "\n",
            "Traceback (most recent call last):\n",
            "  File \"C:\\Users\\MSI GF65\\AppData\\Roaming\\Python\\Python311\\site-packages\\IPython\\core\\interactiveshell.py\", line 2057, in showtraceback\n",
            "    stb = self.InteractiveTB.structured_traceback(\n",
            "          ^^^^^^^^^^^^^^^^^^^^^^^^^^^^^^^^^^^^^^^^\n",
            "  File \"C:\\Users\\MSI GF65\\AppData\\Roaming\\Python\\Python311\\site-packages\\IPython\\core\\ultratb.py\", line 1288, in structured_traceback\n",
            "    return FormattedTB.structured_traceback(\n",
            "           ^^^^^^^^^^^^^^^^^^^^^^^^^^^^^^^^^\n",
            "  File \"C:\\Users\\MSI GF65\\AppData\\Roaming\\Python\\Python311\\site-packages\\IPython\\core\\ultratb.py\", line 1177, in structured_traceback\n",
            "    return VerboseTB.structured_traceback(\n",
            "           ^^^^^^^^^^^^^^^^^^^^^^^^^^^^^^^\n",
            "  File \"C:\\Users\\MSI GF65\\AppData\\Roaming\\Python\\Python311\\site-packages\\IPython\\core\\ultratb.py\", line 1049, in structured_traceback\n",
            "    formatted_exceptions += self.format_exception_as_a_whole(etype, evalue, etb, lines_of_context,\n",
            "                            ^^^^^^^^^^^^^^^^^^^^^^^^^^^^^^^^^^^^^^^^^^^^^^^^^^^^^^^^^^^^^^^^^^^^^^\n",
            "  File \"C:\\Users\\MSI GF65\\AppData\\Roaming\\Python\\Python311\\site-packages\\IPython\\core\\ultratb.py\", line 935, in format_exception_as_a_whole\n",
            "    self.get_records(etb, number_of_lines_of_context, tb_offset) if etb else []\n",
            "    ^^^^^^^^^^^^^^^^^^^^^^^^^^^^^^^^^^^^^^^^^^^^^^^^^^^^^^^^^^^^\n",
            "  File \"C:\\Users\\MSI GF65\\AppData\\Roaming\\Python\\Python311\\site-packages\\IPython\\core\\ultratb.py\", line 1003, in get_records\n",
            "    lines, first = inspect.getsourcelines(etb.tb_frame)\n",
            "                   ^^^^^^^^^^^^^^^^^^^^^^^^^^^^^^^^^^^^\n",
            "  File \"c:\\Users\\MSI GF65\\AppData\\Local\\Programs\\Python\\Python311\\Lib\\inspect.py\", line 1244, in getsourcelines\n",
            "    lines, lnum = findsource(object)\n",
            "                  ^^^^^^^^^^^^^^^^^^\n",
            "  File \"c:\\Users\\MSI GF65\\AppData\\Local\\Programs\\Python\\Python311\\Lib\\inspect.py\", line 1081, in findsource\n",
            "    raise OSError('could not get source code')\n",
            "OSError: could not get source code\n"
          ]
        }
      ],
      "source": [
        "fp = \"/content/CSL_HCMC/Data/GIS/Population/population_HCMC/population_shapefile/Population_Ward_Level.shp\"\n",
        "df = gpd.read_file(fp)"
      ]
    },
    {
      "cell_type": "code",
      "execution_count": 6,
      "metadata": {
        "colab": {
          "base_uri": "https://localhost:8080/",
          "height": 337
        },
        "id": "LUW77MRsO0Nx",
        "outputId": "18fc5b25-db25-441e-a50a-a7126bd479bd"
      },
      "outputs": [
        {
          "ename": "NameError",
          "evalue": "name 'df' is not defined",
          "output_type": "error",
          "traceback": [
            "\u001b[1;31m---------------------------------------------------------------------------\u001b[0m",
            "\u001b[1;31mNameError\u001b[0m                                 Traceback (most recent call last)",
            "Cell \u001b[1;32mIn[6], line 1\u001b[0m\n\u001b[1;32m----> 1\u001b[0m df\u001b[39m.\u001b[39mhead()\n",
            "\u001b[1;31mNameError\u001b[0m: name 'df' is not defined"
          ]
        }
      ],
      "source": [
        "df.head()"
      ]
    },
    {
      "cell_type": "markdown",
      "metadata": {
        "id": "aOrHgZ0fO5H7"
      },
      "source": [
        "- Phường nào có diện tích lớn nhất"
      ]
    },
    {
      "cell_type": "code",
      "execution_count": 35,
      "metadata": {
        "colab": {
          "base_uri": "https://localhost:8080/"
        },
        "id": "S9mq3ZjbO36e",
        "outputId": "d33db5f5-caf6-42b2-a150-6094e7b229e6"
      },
      "outputs": [
        {
          "name": "stdout",
          "output_type": "stream",
          "text": [
            "Phường có diện tích lớn nhất là:  204    Can Gio\n",
            "Name: Dist_Name, dtype: object\n"
          ]
        }
      ],
      "source": [
        "\n",
        "max_area = df[df['Shape_Area'] == df['Shape_Area'].max()]\n",
        "print(\"Phường có diện tích lớn nhất là: \", max_area['Dist_Name'])"
      ]
    },
    {
      "cell_type": "markdown",
      "metadata": {
        "id": "GxMZoKfITik_"
      },
      "source": [
        "Phường nào có dân số 2019 (Pop_2019) cao nhất"
      ]
    },
    {
      "cell_type": "code",
      "execution_count": 36,
      "metadata": {
        "colab": {
          "base_uri": "https://localhost:8080/"
        },
        "id": "yB_wwtAPTlc_",
        "outputId": "dc19b2e2-1d34-4e5c-fb96-8103a6ec16df"
      },
      "outputs": [
        {
          "name": "stdout",
          "output_type": "stream",
          "text": [
            "Phường có dân số 2019 cao nhất là:  168    Binh Chanh\n",
            "Name: Dist_Name, dtype: object\n"
          ]
        }
      ],
      "source": [
        "max_pop2019 = df[df['Pop_2019'] == df['Pop_2019'].max()]\n",
        "print(\"Phường có dân số 2019 cao nhất là: \", max_pop2019['Dist_Name'])"
      ]
    },
    {
      "cell_type": "markdown",
      "metadata": {
        "id": "fpecplXkT2F7"
      },
      "source": [
        " Phường nào có diện tích nhỏ nhất"
      ]
    },
    {
      "cell_type": "code",
      "execution_count": 37,
      "metadata": {
        "colab": {
          "base_uri": "https://localhost:8080/"
        },
        "id": "u-wtIcxKT8zZ",
        "outputId": "95204e5a-78e2-4630-e948-eb5ef9b24465"
      },
      "outputs": [
        {
          "name": "stdout",
          "output_type": "stream",
          "text": [
            "Phường có diện tích nhỏ nhất là:  71    District 10\n",
            "Name: Dist_Name, dtype: object\n"
          ]
        }
      ],
      "source": [
        "min_area = df[df['Shape_Area'] == df['Shape_Area'].min()]\n",
        "print(\"Phường có diện tích nhỏ nhất là: \", min_area['Dist_Name'])"
      ]
    },
    {
      "cell_type": "markdown",
      "metadata": {
        "id": "A0aLBBA4UWUg"
      },
      "source": [
        "Phường nào có dân số thấp nhất (2019)"
      ]
    },
    {
      "cell_type": "code",
      "execution_count": 38,
      "metadata": {
        "colab": {
          "base_uri": "https://localhost:8080/"
        },
        "id": "UaKw3YctUZFo",
        "outputId": "427367a0-5bff-47f9-c012-d11436c3383d"
      },
      "outputs": [
        {
          "name": "stdout",
          "output_type": "stream",
          "text": [
            "Phường có dân số 2019 thấp nhất là:  218    District 2\n",
            "Name: Dist_Name, dtype: object\n"
          ]
        }
      ],
      "source": [
        "min_pop2019 = df[df['Pop_2019'] == df['Pop_2019'].min()]\n",
        "print(\"Phường có dân số 2019 thấp nhất là: \", min_pop2019['Dist_Name'])"
      ]
    },
    {
      "cell_type": "markdown",
      "metadata": {
        "id": "3nfhhV0ZUgR8"
      },
      "source": [
        "Phường nào có tốc độ tăng trưởng dân số nhanh nhất (dựa trên Pop_2009 và Pop_2019)"
      ]
    },
    {
      "cell_type": "code",
      "execution_count": 54,
      "metadata": {
        "colab": {
          "base_uri": "https://localhost:8080/"
        },
        "id": "Z1W8_kNJUjbh",
        "outputId": "02c5cfa2-bc32-4a8a-e15c-0223e6e7bd27"
      },
      "outputs": [
        {
          "name": "stdout",
          "output_type": "stream",
          "text": [
            "Phường có tốc độ tăng trưởng dân số nhanh nhất là:  211    District 9\n",
            "Name: Dist_Name, dtype: object\n"
          ]
        }
      ],
      "source": [
        "max_growth = df[(df['Pop_2019'] - df['Pop_2009']) / df['Pop_2009'] == ((df['Pop_2019'] - df['Pop_2009']) / df['Pop_2009']).max()]\n",
        "print(\"Phường có tốc độ tăng trưởng dân số nhanh nhất là: \", max_growth['Dist_Name'])"
      ]
    },
    {
      "cell_type": "markdown",
      "metadata": {
        "id": "_Uv7zC-OZx2B"
      },
      "source": [
        "Phường nào có tốc độ tăng trưởng dân số thấp nhất"
      ]
    },
    {
      "cell_type": "code",
      "execution_count": 55,
      "metadata": {
        "colab": {
          "base_uri": "https://localhost:8080/"
        },
        "id": "3EuU_M8pZy1e",
        "outputId": "9304b3f4-1f71-490d-94a4-66d37d501007"
      },
      "outputs": [
        {
          "name": "stdout",
          "output_type": "stream",
          "text": [
            "Phường có tốc độ tăng trưởng dân số chậm nhất là:  218    District 2\n",
            "Name: Dist_Name, dtype: object\n"
          ]
        }
      ],
      "source": [
        "min_growth = df[(df['Pop_2019'] - df['Pop_2009']) / df['Pop_2009'] == ((df['Pop_2019'] - df['Pop_2009']) / df['Pop_2009']).min()]\n",
        "print(\"Phường có tốc độ tăng trưởng dân số chậm nhất là: \", min_growth['Dist_Name'])"
      ]
    },
    {
      "cell_type": "markdown",
      "metadata": {
        "id": "2lh8utdVaC1o"
      },
      "source": [
        "Phường nào có biến động dân số nhanh nhất"
      ]
    },
    {
      "cell_type": "code",
      "execution_count": 57,
      "metadata": {
        "colab": {
          "base_uri": "https://localhost:8080/"
        },
        "id": "BTc4Lqf1aHDI",
        "outputId": "aa4d7607-6b8b-4c79-b75a-0a04aeabdb1c"
      },
      "outputs": [
        {
          "name": "stdout",
          "output_type": "stream",
          "text": [
            "Phường có biến động dân số lớn nhất là:  168    Binh Chanh\n",
            "Name: Dist_Name, dtype: object\n"
          ]
        }
      ],
      "source": [
        "max_change = df[(df['Pop_2019'] - df['Pop_2009']) == ((df['Pop_2019'] - df['Pop_2009'])).max()]\n",
        "print(\"Phường có biến động dân số lớn nhất là: \", max_change['Dist_Name'])"
      ]
    },
    {
      "cell_type": "markdown",
      "metadata": {
        "id": "TtFGDcfdaVr7"
      },
      "source": [
        "Phường nào có biến động dân số chậm nhất"
      ]
    },
    {
      "cell_type": "code",
      "execution_count": 58,
      "metadata": {
        "colab": {
          "base_uri": "https://localhost:8080/"
        },
        "id": "dZk6mTrHaXyF",
        "outputId": "15c814bc-66d3-48e2-d3e5-71467b21e2d5"
      },
      "outputs": [
        {
          "name": "stdout",
          "output_type": "stream",
          "text": [
            "Phường có biến động dân số lớn nhất là:  218    District 2\n",
            "Name: Dist_Name, dtype: object\n"
          ]
        }
      ],
      "source": [
        "min_change = df[(df['Pop_2019'] - df['Pop_2009']) == ((df['Pop_2019'] - df['Pop_2009'])).min()]\n",
        "print(\"Phường có biến động dân số lớn nhất là: \", min_change['Dist_Name'])"
      ]
    },
    {
      "cell_type": "markdown",
      "metadata": {
        "id": "ET9oYOiYag7B"
      },
      "source": [
        "Phường nào có mật độ dân số cao nhất (2019)"
      ]
    },
    {
      "cell_type": "code",
      "execution_count": 60,
      "metadata": {
        "colab": {
          "base_uri": "https://localhost:8080/"
        },
        "id": "ID7i61x5anWU",
        "outputId": "85b22b93-a50d-4c82-fda4-93b2b43472d6"
      },
      "outputs": [
        {
          "name": "stdout",
          "output_type": "stream",
          "text": [
            "Phường có mật độ dân số cao nhất là:  16    District 4\n",
            "Name: Dist_Name, dtype: object\n"
          ]
        }
      ],
      "source": [
        "max_den = df[df['Den_2019'] == df['Den_2019'].max()]\n",
        "print(\"Phường có mật độ dân số cao nhất là: \", max_den['Dist_Name'])"
      ]
    },
    {
      "cell_type": "markdown",
      "metadata": {
        "id": "Q20FNx3wbF9P"
      },
      "source": [
        "\n",
        "\n",
        "Phường nào có mật độ dân số thấp nhất (2019)\n"
      ]
    },
    {
      "cell_type": "code",
      "execution_count": 61,
      "metadata": {
        "colab": {
          "base_uri": "https://localhost:8080/"
        },
        "id": "v2BKGxPYbKa7",
        "outputId": "37e7e248-1210-4016-8b05-393526cc786b"
      },
      "outputs": [
        {
          "name": "stdout",
          "output_type": "stream",
          "text": [
            "Phường có mật độ dân số thấp nhất là:  204    Can Gio\n",
            "Name: Dist_Name, dtype: object\n"
          ]
        }
      ],
      "source": [
        "min_den = df[df['Den_2019'] == df['Den_2019'].min()]\n",
        "print(\"Phường có mật độ dân số thấp nhất là: \", min_den['Dist_Name'])"
      ]
    }
  ],
  "metadata": {
    "colab": {
      "provenance": []
    },
    "kernelspec": {
      "display_name": "Python 3",
      "name": "python3"
    },
    "language_info": {
      "codemirror_mode": {
        "name": "ipython",
        "version": 3
      },
      "file_extension": ".py",
      "mimetype": "text/x-python",
      "name": "python",
      "nbconvert_exporter": "python",
      "pygments_lexer": "ipython3",
      "version": "3.11.2"
    }
  },
  "nbformat": 4,
  "nbformat_minor": 0
}
